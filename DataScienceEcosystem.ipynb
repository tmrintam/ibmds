{
 "cells": [
  {
   "cell_type": "markdown",
   "id": "5535ae8e-5af1-43af-82e4-6a5ce34759fe",
   "metadata": {},
   "source": [
    "# Data Science Tools and Ecosystem"
   ]
  },
  {
   "cell_type": "markdown",
   "id": "9ed793b6-13a0-47ec-9af8-c0654021c16b",
   "metadata": {},
   "source": [
    "In this notebook, Data Science Tools and Ecosystem are summarized.\n"
   ]
  },
  {
   "cell_type": "markdown",
   "id": "0d8f4a94-55d1-4bea-8795-931d2353290d",
   "metadata": {
    "tags": []
   },
   "source": [
    "**Objectives:**\n",
    "\n",
    "- Understand the basic concepts of Data Science.\n",
    "- List popular languages for Data Science.\n",
    "- Explore easy calculations\n",
    "- Learn about markdowns\n",
    "- Fight with your new macbook. Screenshots are so hard.\n"
   ]
  },
  {
   "cell_type": "markdown",
   "id": "c7596896-e13b-4b21-8625-75d471705667",
   "metadata": {},
   "source": [
    "### Some of the popular languages that Data Scientists use are:\n",
    "1. Python\n",
    "2. Scala\n",
    "3. Julia "
   ]
  },
  {
   "cell_type": "markdown",
   "id": "4817a29e-a149-4477-a325-85626c899a0c",
   "metadata": {},
   "source": [
    "### Some of the commonly used libraries used by Data Scientists include:\n",
    "1. sklearn\n",
    "2. pandas\n",
    "3. tensorflow"
   ]
  },
  {
   "cell_type": "markdown",
   "id": "7ea847b3-f612-4cbd-8bc1-8ca8b4bd967b",
   "metadata": {},
   "source": [
    "|Data Science Tools|\n",
    "|------------------|\n",
    "|Jupyter Notebook|\n",
    "|Watson Studio |\n",
    "|Databricks|"
   ]
  },
  {
   "cell_type": "markdown",
   "id": "7b64eca1-f033-46cd-9846-df7f063dc535",
   "metadata": {},
   "source": [
    "### Below are a few examples of evaluating arithmetic expressions in Python.\n"
   ]
  },
  {
   "cell_type": "code",
   "execution_count": 4,
   "id": "db6cc7f0-a8bf-462d-9267-784f2c01bfeb",
   "metadata": {
    "tags": []
   },
   "outputs": [
    {
     "data": {
      "text/plain": [
       "17"
      ]
     },
     "execution_count": 4,
     "metadata": {},
     "output_type": "execute_result"
    }
   ],
   "source": [
    "# This a simple arithmetic expression to mutiply then add integers\n",
    "(3*4)+5"
   ]
  },
  {
   "cell_type": "code",
   "execution_count": 6,
   "id": "9d37d156-83aa-4214-8ea5-f5d4dafea234",
   "metadata": {
    "tags": []
   },
   "outputs": [
    {
     "name": "stdout",
     "output_type": "stream",
     "text": [
      "3.3333333333333335\n"
     ]
    }
   ],
   "source": [
    "# This will convert 200 minutes to hours by diving by 60\n",
    "minutes = 200\n",
    "hours = minutes/60\n",
    "print(hours)"
   ]
  },
  {
   "cell_type": "markdown",
   "id": "513cfb12-dd2a-43f7-a8e0-69b3d96a63aa",
   "metadata": {},
   "source": [
    "#"
   ]
  }
 ],
 "metadata": {
  "kernelspec": {
   "display_name": "Python",
   "language": "python",
   "name": "conda-env-python-py"
  },
  "language_info": {
   "codemirror_mode": {
    "name": "ipython",
    "version": 3
   },
   "file_extension": ".py",
   "mimetype": "text/x-python",
   "name": "python",
   "nbconvert_exporter": "python",
   "pygments_lexer": "ipython3",
   "version": "3.7.12"
  }
 },
 "nbformat": 4,
 "nbformat_minor": 5
}
